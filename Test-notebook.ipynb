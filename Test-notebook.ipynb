{
 "cells": [
  {
   "cell_type": "markdown",
   "metadata": {},
   "source": [
    "Jon's part"
   ]
  },
  {
   "cell_type": "code",
   "execution_count": 1,
   "metadata": {},
   "outputs": [],
   "source": [
    "import numpy as np\n",
    "import pandas as pd"
   ]
  },
  {
   "cell_type": "code",
   "execution_count": 40,
   "metadata": {},
   "outputs": [],
   "source": [
    "train_df = pd.read_csv('west_nile/input/train.csv')\n",
    "test_df = pd.read_csv('west_nile/input/test.csv')\n",
    "weather_df = pd.read_csv('west_nile/input/weather.csv', na_values='M')\n",
    "spray_df = pd.read_csv('west_nile/input/spray.csv')"
   ]
  },
  {
   "cell_type": "code",
   "execution_count": 41,
   "metadata": {},
   "outputs": [
    {
     "name": "stdout",
     "output_type": "stream",
     "text": [
      "In the TRAINING data:\n",
      "----------\n",
      "There are 262 cases with the mosquito CULEX PIPIENS/RESTUANS\n",
      "There are 49 cases with the mosquito CULEX RESTUANS\n",
      "There are 240 cases with the mosquito CULEX PIPIENS\n",
      "There are 0 cases with the mosquito CULEX SALINARIUS\n",
      "There are 0 cases with the mosquito CULEX TERRITANS\n",
      "There are 0 cases with the mosquito CULEX TARSALIS\n",
      "There are 0 cases with the mosquito CULEX ERRATICUS\n"
     ]
    }
   ],
   "source": [
    "print(\"In the TRAINING data:\\n----------\")\n",
    "for bug in train_df['Species'].unique():\n",
    "    print(\"There are {} cases with the mosquito {}\".format(train_df['WnvPresent'][train_df['Species']==bug].sum(), bug))"
   ]
  },
  {
   "cell_type": "code",
   "execution_count": 42,
   "metadata": {},
   "outputs": [
    {
     "name": "stdout",
     "output_type": "stream",
     "text": [
      "There are 0 nulls in the training set, 0 in the test set, 7415 in the weather set, and 584 in the spray set.\n"
     ]
    }
   ],
   "source": [
    "print(\"There are {} nulls in the training set, {} in the test set, {} in the weather set, and {} in the spray set.\".format(train_df.isna().sum().sum(),\n",
    "                                                                                                                          test_df.isna().sum().sum(),\n",
    "                                                                                                                          weather_df.isna().sum().sum(),\n",
    "                                                                                                                          spray_df.isna().sum().sum()))"
   ]
  },
  {
   "cell_type": "code",
   "execution_count": 48,
   "metadata": {},
   "outputs": [
    {
     "name": "stdout",
     "output_type": "stream",
     "text": [
      "mean avg temp at station 1: 66.60665760869566\n",
      "mean avg temp at station 2: 67.87816563997262\n"
     ]
    }
   ],
   "source": [
    "print(\"mean avg temp at station 1: {}\\nmean avg temp at station 2: {}\".format(weather_df[weather_df['Station']==1]['Tavg'].mean(), weather_df[weather_df['Station']==2]['Tavg'].mean()))"
   ]
  },
  {
   "cell_type": "markdown",
   "metadata": {},
   "source": [
    "Schubert's part"
   ]
  },
  {
   "cell_type": "code",
   "execution_count": null,
   "metadata": {},
   "outputs": [],
   "source": [
    "import pandas as pd \n",
    "import seaborn as sns \n",
    "import math \n",
    "import datetime"
   ]
  },
  {
   "cell_type": "code",
   "execution_count": null,
   "metadata": {},
   "outputs": [],
   "source": [
    "def clean_code(data):\n",
    "    pass"
   ]
  },
  {
   "cell_type": "code",
   "execution_count": null,
   "metadata": {},
   "outputs": [],
   "source": [
    "def create_features(data):\n",
    "    pass"
   ]
  },
  {
   "cell_type": "code",
   "execution_count": null,
   "metadata": {},
   "outputs": [],
   "source": []
  }
 ],
 "metadata": {
  "kernelspec": {
   "display_name": "Python [conda root]",
   "language": "python",
   "name": "conda-root-py"
  },
  "language_info": {
   "codemirror_mode": {
    "name": "ipython",
    "version": 3
   },
   "file_extension": ".py",
   "mimetype": "text/x-python",
   "name": "python",
   "nbconvert_exporter": "python",
   "pygments_lexer": "ipython3",
   "version": "3.6.4"
  }
 },
 "nbformat": 4,
 "nbformat_minor": 2
}
