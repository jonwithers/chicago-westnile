    "import numpy as np\n",
    "import pandas as pd\n",
    "import matplotlib.pyplot as plt"